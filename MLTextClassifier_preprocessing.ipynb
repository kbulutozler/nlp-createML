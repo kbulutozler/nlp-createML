{
 "cells": [
  {
   "cell_type": "code",
   "execution_count": 36,
   "id": "c289945d",
   "metadata": {},
   "outputs": [],
   "source": [
    "data_path = \"/aclImdb\""
   ]
  },
  {
   "cell_type": "code",
   "execution_count": 58,
   "id": "fc229f44",
   "metadata": {},
   "outputs": [],
   "source": [
    "import os\n",
    "import json\n",
    "import random"
   ]
  },
  {
   "cell_type": "code",
   "execution_count": 82,
   "id": "7e0da04b",
   "metadata": {},
   "outputs": [],
   "source": [
    "train_pos_filenames = next(os.walk(os.path.join(data_path, 'train', 'pos')), (None, None, []))[2]  # [] if no file"
   ]
  },
  {
   "cell_type": "code",
   "execution_count": 83,
   "id": "60acec53",
   "metadata": {},
   "outputs": [],
   "source": [
    "train_neg_filenames = next(os.walk(os.path.join(data_path, 'train', 'neg')), (None, None, []))[2]  # [] if no file"
   ]
  },
  {
   "cell_type": "code",
   "execution_count": 84,
   "id": "a03bad87",
   "metadata": {},
   "outputs": [],
   "source": [
    "test_pos_filenames = next(os.walk(os.path.join(data_path, 'test', 'pos')), (None, None, []))[2]  # [] if no file"
   ]
  },
  {
   "cell_type": "code",
   "execution_count": 85,
   "id": "4fa2124a",
   "metadata": {},
   "outputs": [],
   "source": [
    "test_neg_filenames = next(os.walk(os.path.join(data_path, 'test', 'neg')), (None, None, []))[2]  # [] if no file"
   ]
  },
  {
   "cell_type": "code",
   "execution_count": 86,
   "id": "571e2076",
   "metadata": {},
   "outputs": [],
   "source": [
    "list_to_json_train = []\n",
    "list_to_json_test = []"
   ]
  },
  {
   "cell_type": "code",
   "execution_count": 87,
   "id": "d98a7a99",
   "metadata": {},
   "outputs": [],
   "source": [
    "for file in train_pos_filenames:\n",
    "    f = open(os.path.join(data_path, 'train', 'pos', file), \"r\")\n",
    "    dict_for_text = {}\n",
    "    dict_for_text[\"text\"] = f.read()\n",
    "    dict_for_text[\"label\"] = \"positive\"\n",
    "    list_to_json_train.append(dict_for_text)"
   ]
  },
  {
   "cell_type": "code",
   "execution_count": 88,
   "id": "1f936ecc",
   "metadata": {},
   "outputs": [],
   "source": [
    "for file in train_neg_filenames:\n",
    "    f = open(os.path.join(data_path, 'train', 'neg', file), \"r\")\n",
    "    dict_for_text = {}\n",
    "    dict_for_text[\"text\"] = f.read()\n",
    "    dict_for_text[\"label\"] = \"negative\"\n",
    "    list_to_json_train.append(dict_for_text)"
   ]
  },
  {
   "cell_type": "code",
   "execution_count": 89,
   "id": "e96a18c6",
   "metadata": {},
   "outputs": [],
   "source": [
    "for file in test_pos_filenames:\n",
    "    f = open(os.path.join(data_path, 'test', 'pos', file), \"r\")\n",
    "    dict_for_text = {}\n",
    "    dict_for_text[\"text\"] = f.read()\n",
    "    dict_for_text[\"label\"] = \"positive\"\n",
    "    list_to_json_test.append(dict_for_text)"
   ]
  },
  {
   "cell_type": "code",
   "execution_count": 90,
   "id": "ebd6bcee",
   "metadata": {},
   "outputs": [],
   "source": [
    "for file in test_neg_filenames:\n",
    "    f = open(os.path.join(data_path, 'test', 'neg', file), \"r\")\n",
    "    dict_for_text = {}\n",
    "    dict_for_text[\"text\"] = f.read()\n",
    "    dict_for_text[\"label\"] = \"negative\"\n",
    "    list_to_json_test.append(dict_for_text)"
   ]
  },
  {
   "cell_type": "code",
   "execution_count": 91,
   "id": "ef74bc7f",
   "metadata": {},
   "outputs": [],
   "source": [
    "random.shuffle(list_to_json_train)\n",
    "random.shuffle(list_to_json_test)"
   ]
  },
  {
   "cell_type": "code",
   "execution_count": 92,
   "id": "15044c96",
   "metadata": {},
   "outputs": [],
   "source": [
    "with open('training.json', 'w', encoding='utf-8') as f:\n",
    "    json.dump(list_to_json_train, f, ensure_ascii=False, indent=4)"
   ]
  },
  {
   "cell_type": "code",
   "execution_count": 93,
   "id": "0e2c3113",
   "metadata": {},
   "outputs": [],
   "source": [
    "with open('testing.json', 'w', encoding='utf-8') as f:\n",
    "    json.dump(list_to_json_test, f, ensure_ascii=False, indent=4)"
   ]
  },
  {
   "cell_type": "code",
   "execution_count": null,
   "id": "c060eb70",
   "metadata": {},
   "outputs": [],
   "source": []
  }
 ],
 "metadata": {
  "kernelspec": {
   "display_name": "Python 3 (ipykernel)",
   "language": "python",
   "name": "python3"
  },
  "language_info": {
   "codemirror_mode": {
    "name": "ipython",
    "version": 3
   },
   "file_extension": ".py",
   "mimetype": "text/x-python",
   "name": "python",
   "nbconvert_exporter": "python",
   "pygments_lexer": "ipython3",
   "version": "3.8.11"
  }
 },
 "nbformat": 4,
 "nbformat_minor": 5
}
